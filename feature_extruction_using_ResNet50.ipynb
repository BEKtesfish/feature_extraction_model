{
 "cells": [
  {
   "cell_type": "code",
   "execution_count": 21,
   "id": "d87e7af0-009e-4fd6-b889-6f5af8af92d6",
   "metadata": {},
   "outputs": [],
   "source": [
    "# Importing necessary libraries for image classification using ResNet50 model\n",
    "import numpy as np  # For numerical computing\n",
    "import tensorflow as tf  # For deep learning operations\n",
    "from tensorflow.keras.applications import ResNet50  # Pre-trained ResNet50 model\n",
    "from tensorflow.keras.applications.resnet50 import preprocess_input  # Preprocess input images\n",
    "from tensorflow.keras.preprocessing import image  # Image preprocessing tasks\n",
    "import pandas as pd  # For data manipulation and analysis\n"
   ]
  },
  {
   "cell_type": "code",
   "execution_count": 22,
   "id": "17d5bf89-9b8c-4178-bb3f-394fa2ace7ad",
   "metadata": {},
   "outputs": [
    {
     "name": "stdout",
     "output_type": "stream",
     "text": [
      "\u001b[1m1/1\u001b[0m \u001b[32m━━━━━━━━━━━━━━━━━━━━\u001b[0m\u001b[37m\u001b[0m \u001b[1m1s\u001b[0m 696ms/step\n",
      "\u001b[1m1/1\u001b[0m \u001b[32m━━━━━━━━━━━━━━━━━━━━\u001b[0m\u001b[37m\u001b[0m \u001b[1m0s\u001b[0m 56ms/step\n",
      "\u001b[1m1/1\u001b[0m \u001b[32m━━━━━━━━━━━━━━━━━━━━\u001b[0m\u001b[37m\u001b[0m \u001b[1m0s\u001b[0m 60ms/step\n",
      "\u001b[1m1/1\u001b[0m \u001b[32m━━━━━━━━━━━━━━━━━━━━\u001b[0m\u001b[37m\u001b[0m \u001b[1m0s\u001b[0m 59ms/step\n",
      "\u001b[1m1/1\u001b[0m \u001b[32m━━━━━━━━━━━━━━━━━━━━\u001b[0m\u001b[37m\u001b[0m \u001b[1m0s\u001b[0m 57ms/step\n",
      "\u001b[1m1/1\u001b[0m \u001b[32m━━━━━━━━━━━━━━━━━━━━\u001b[0m\u001b[37m\u001b[0m \u001b[1m0s\u001b[0m 59ms/step\n",
      "\u001b[1m1/1\u001b[0m \u001b[32m━━━━━━━━━━━━━━━━━━━━\u001b[0m\u001b[37m\u001b[0m \u001b[1m0s\u001b[0m 58ms/step\n",
      "\u001b[1m1/1\u001b[0m \u001b[32m━━━━━━━━━━━━━━━━━━━━\u001b[0m\u001b[37m\u001b[0m \u001b[1m0s\u001b[0m 59ms/step\n",
      "\u001b[1m1/1\u001b[0m \u001b[32m━━━━━━━━━━━━━━━━━━━━\u001b[0m\u001b[37m\u001b[0m \u001b[1m0s\u001b[0m 58ms/step\n",
      "\u001b[1m1/1\u001b[0m \u001b[32m━━━━━━━━━━━━━━━━━━━━\u001b[0m\u001b[37m\u001b[0m \u001b[1m0s\u001b[0m 61ms/step\n",
      "\u001b[1m1/1\u001b[0m \u001b[32m━━━━━━━━━━━━━━━━━━━━\u001b[0m\u001b[37m\u001b[0m \u001b[1m0s\u001b[0m 59ms/step\n",
      "\u001b[1m1/1\u001b[0m \u001b[32m━━━━━━━━━━━━━━━━━━━━\u001b[0m\u001b[37m\u001b[0m \u001b[1m0s\u001b[0m 61ms/step\n",
      "\u001b[1m1/1\u001b[0m \u001b[32m━━━━━━━━━━━━━━━━━━━━\u001b[0m\u001b[37m\u001b[0m \u001b[1m0s\u001b[0m 57ms/step\n",
      "\u001b[1m1/1\u001b[0m \u001b[32m━━━━━━━━━━━━━━━━━━━━\u001b[0m\u001b[37m\u001b[0m \u001b[1m0s\u001b[0m 59ms/step\n",
      "\u001b[1m1/1\u001b[0m \u001b[32m━━━━━━━━━━━━━━━━━━━━\u001b[0m\u001b[37m\u001b[0m \u001b[1m0s\u001b[0m 57ms/step\n",
      "\u001b[1m1/1\u001b[0m \u001b[32m━━━━━━━━━━━━━━━━━━━━\u001b[0m\u001b[37m\u001b[0m \u001b[1m0s\u001b[0m 57ms/step\n",
      "\u001b[1m1/1\u001b[0m \u001b[32m━━━━━━━━━━━━━━━━━━━━\u001b[0m\u001b[37m\u001b[0m \u001b[1m0s\u001b[0m 59ms/step\n",
      "17\n"
     ]
    }
   ],
   "source": [
    "# Load pre-trained ResNet50 model\n",
    "model = ResNet50(weights='imagenet', include_top=False, pooling='avg')\n",
    "\n",
    "# List of image paths to be processed\n",
    "image_paths = [\n",
    "    '/Users/berekettesfaye/Desktop/feature_extraction/botttle images/20240407_212055.jpg',\n",
    "    '/Users/berekettesfaye/Desktop/feature_extraction/botttle images/20240407_212059.jpg',\n",
    "    '/Users/berekettesfaye/Desktop/feature_extraction/botttle images/20240407_212102.jpg',\n",
    "    '/Users/berekettesfaye/Desktop/feature_extraction/botttle images/20240407_212106.jpg',\n",
    "    '/Users/berekettesfaye/Desktop/feature_extraction/botttle images/20240407_212109.jpg',\n",
    "    '/Users/berekettesfaye/Desktop/feature_extraction/botttle images/20240407_212113.jpg',\n",
    "    '/Users/berekettesfaye/Desktop/feature_extraction/botttle images/20240407_212116.jpg',\n",
    "    '/Users/berekettesfaye/Desktop/feature_extraction/botttle images/20240407_212126.jpg',\n",
    "    '/Users/berekettesfaye/Desktop/feature_extraction/botttle images/20240407_212123.jpg',\n",
    "    '/Users/berekettesfaye/Desktop/feature_extraction/botttle images/20240407_212120.jpg',\n",
    "    '/Users/berekettesfaye/Desktop/feature_extraction/botttle images/20240407_212129.jpg',\n",
    "    '/Users/berekettesfaye/Desktop/feature_extraction/botttle images/20240407_212133.jpg',\n",
    "    '/Users/berekettesfaye/Desktop/feature_extraction/botttle images/20240407_212135.jpg',\n",
    "    '/Users/berekettesfaye/Desktop/feature_extraction/botttle images/20240407_212140.jpg',\n",
    "    '/Users/berekettesfaye/Desktop/feature_extraction/botttle images/20240407_212140 copy.jpg',\n",
    "    '/Users/berekettesfaye/Desktop/feature_extraction/botttle images/20240407_212204.jpg',\n",
    "    '/Users/berekettesfaye/Desktop/feature_extraction/botttle images/20240407_212212.jpg'  # Odd image\n",
    "]\n",
    "\n",
    "listy = []  # List to store extracted features\n",
    "\n",
    "# Loop through each image path\n",
    "for path in image_paths:\n",
    "    img_path = path\n",
    "    img = image.load_img(img_path, target_size=(224, 224))  # Load image and resize to (224, 224)\n",
    "    x = image.img_to_array(img)  # Convert image to numpy array\n",
    "    x = np.expand_dims(x, axis=0)  # Expand dimensions to create a batch of size 1\n",
    "    x = preprocess_input(x)  # Preprocess input for ResNet50 model\n",
    "    features = model.predict(x)  # Extract features using ResNet50 model\n",
    "    listy.append(features)  # Append extracted features to the list\n",
    "\n",
    "print(len(listy))  # Print the number of images processed\n"
   ]
  },
  {
   "cell_type": "code",
   "execution_count": 20,
   "id": "6b86c291-3657-44bd-ac22-b19a0ddc67bb",
   "metadata": {},
   "outputs": [
    {
     "name": "stdout",
     "output_type": "stream",
     "text": [
      "[ 1  1  1  1  1  1  1  1  1  1  1  1  1  1 -1 -1 -1]\n"
     ]
    }
   ],
   "source": [
    "from sklearn.ensemble import IsolationForest  # Importing IsolationForest for outlier detection\n",
    "\n",
    "X = np.array(listy).reshape(-1, 2048)  # Reshaping the feature vectors\n",
    "\n",
    "# Initializing IsolationForest with a contamination rate of 0.13\n",
    "isolation_forest = IsolationForest(contamination=0.13)  \n",
    "isolation_forest.fit(X)  # Fitting the IsolationForest model to the data\n",
    "outlier_preds = isolation_forest.predict(X)  # Predicting outliers (-1 for outliers, 1 for inliers)\n",
    "\n",
    "print(outlier_preds)  # Printing the predicted outliers\n"
   ]
  },
  {
   "cell_type": "code",
   "execution_count": null,
   "id": "26f57a15-56c4-46ad-b585-01b914397a8b",
   "metadata": {},
   "outputs": [],
   "source": []
  }
 ],
 "metadata": {
  "kernelspec": {
   "display_name": "Python 3 (ipykernel)",
   "language": "python",
   "name": "python3"
  },
  "language_info": {
   "codemirror_mode": {
    "name": "ipython",
    "version": 3
   },
   "file_extension": ".py",
   "mimetype": "text/x-python",
   "name": "python",
   "nbconvert_exporter": "python",
   "pygments_lexer": "ipython3",
   "version": "3.11.5"
  }
 },
 "nbformat": 4,
 "nbformat_minor": 5
}
